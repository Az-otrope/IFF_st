{
 "cells": [
  {
   "cell_type": "code",
   "execution_count": 4,
   "id": "42ca8636",
   "metadata": {
    "tags": []
   },
   "outputs": [],
   "source": [
    "#import libraries\n",
    "import streamlit as st\n",
    "\n",
    "import numpy as np\n",
    "import pandas as pd\n",
    "import seaborn as sns\n",
    "import plotly.graph_objects as go\n",
    "import plotly.express as px\n",
    "import matplotlib.pyplot as plt\n",
    "from datetime import time, date, datetime\n",
    "\n",
    "import warnings\n",
    "\n",
    "%matplotlib inline\n",
    "warnings.filterwarnings(\"ignore\")"
   ]
  },
  {
   "cell_type": "markdown",
   "id": "7c5e7a91",
   "metadata": {},
   "source": [
    "## A. Import dataset"
   ]
  },
  {
   "cell_type": "code",
   "execution_count": null,
   "id": "aecd1558-29f6-47b6-bdf6-2590a147014e",
   "metadata": {},
   "outputs": [],
   "source": [
    "def upload_dataset(caption: str) -> pd.DataFrame:\n",
    "    \"\"\"Let the user upload a dataset as CSV\"\"\"\n",
    "\n",
    "    file = st.file_uploader(caption, type=[\"csv\"])\n",
    "    if not file:\n",
    "        st.warning(\"Please upload a CSV file.\")\n",
    "        return pd.DataFrame()\n",
    "    data = pd.read_csv(file)\n",
    "    st.write(f\"DataFrame size: {len(data)}\")\n",
    "    file.close()\n",
    "    st.dataframe(data.head())\n",
    "\n",
    "    return data"
   ]
  },
  {
   "cell_type": "markdown",
   "id": "01686380",
   "metadata": {},
   "source": [
    "## B. Data Wrangling"
   ]
  },
  {
   "cell_type": "markdown",
   "id": "b38d7fec",
   "metadata": {},
   "source": [
    "### B1. Pivot"
   ]
  },
  {
   "cell_type": "code",
   "execution_count": null,
   "id": "dd7b7588",
   "metadata": {},
   "outputs": [],
   "source": [
    "# Dashboard\n",
    "if add_sidebar == 'Pivot':\n",
    "    st.subheader('Pivot Data Dashboard')\n",
    "    data=upload_dataset('Upload CSV file')\n",
    "    \n",
    "    st.write('Time Range')\n",
    "    exp_period = st.slider('Choose a time range of completed experiments:',\n",
    "                           date(2019,1,1), date.today(),\n",
    "                           value=(date(2020,1,1),date(2021,1,1)),\n",
    "                           format='YYYY/MM/DD')"
   ]
  },
  {
   "cell_type": "markdown",
   "id": "d7fb2cd0-00f5-4d00-963f-f0e7c9a20647",
   "metadata": {},
   "source": [
    "#### B1.a. Data preprocessing"
   ]
  },
  {
   "cell_type": "markdown",
   "id": "76ca59fb-9ae0-46d1-b751-bd6d9c682bda",
   "metadata": {},
   "source": [
    "**Raw CFU** file is a template. To write a function:\n",
    "- skiprows=2\n",
    "- key: 'Batch' col\n",
    "- features: 'Date','CFU/mL','CFU/g' cols\n",
    "- remove rows with NaN in 'Batch' col"
   ]
  },
  {
   "cell_type": "code",
   "execution_count": 2,
   "id": "191bf848-1a80-4042-b119-0383a260b86a",
   "metadata": {},
   "outputs": [
    {
     "data": {
      "text/html": [
       "<div>\n",
       "<style scoped>\n",
       "    .dataframe tbody tr th:only-of-type {\n",
       "        vertical-align: middle;\n",
       "    }\n",
       "\n",
       "    .dataframe tbody tr th {\n",
       "        vertical-align: top;\n",
       "    }\n",
       "\n",
       "    .dataframe thead th {\n",
       "        text-align: right;\n",
       "    }\n",
       "</style>\n",
       "<table border=\"1\" class=\"dataframe\">\n",
       "  <thead>\n",
       "    <tr style=\"text-align: right;\">\n",
       "      <th></th>\n",
       "      <th>Batch</th>\n",
       "      <th>Sample Description</th>\n",
       "      <th>Code No.</th>\n",
       "      <th>Logs</th>\n",
       "      <th>No. Reps</th>\n",
       "      <th>Extra</th>\n",
       "      <th>grams</th>\n",
       "      <th>mL</th>\n",
       "      <th>Who</th>\n",
       "      <th>Date</th>\n",
       "      <th>...</th>\n",
       "      <th>R2</th>\n",
       "      <th>R3</th>\n",
       "      <th>CFU/mL</th>\n",
       "      <th>SD CFU/mL</th>\n",
       "      <th>CFU/g</th>\n",
       "      <th>SD CFU/g</th>\n",
       "      <th>CV</th>\n",
       "      <th>Remark/AW</th>\n",
       "      <th>Unnamed: 20</th>\n",
       "      <th>Unnamed: 21</th>\n",
       "    </tr>\n",
       "  </thead>\n",
       "  <tbody>\n",
       "    <tr>\n",
       "      <th>0</th>\n",
       "      <td>FDL-086-7</td>\n",
       "      <td>Pivot FD</td>\n",
       "      <td>NaN</td>\n",
       "      <td>5, 6, 7</td>\n",
       "      <td>2.0</td>\n",
       "      <td>NaN</td>\n",
       "      <td>0.1084</td>\n",
       "      <td>2.06</td>\n",
       "      <td>CL</td>\n",
       "      <td>2022/10/12</td>\n",
       "      <td>...</td>\n",
       "      <td>56.0</td>\n",
       "      <td>NaN</td>\n",
       "      <td>4.28E+09</td>\n",
       "      <td>2.88E+09</td>\n",
       "      <td>8.13E+10</td>\n",
       "      <td>5.48E+10</td>\n",
       "      <td>67.4%</td>\n",
       "      <td>Contaminated</td>\n",
       "      <td>NaN</td>\n",
       "      <td>NaN</td>\n",
       "    </tr>\n",
       "    <tr>\n",
       "      <th>1</th>\n",
       "      <td>FDL-090C-T09</td>\n",
       "      <td>Pivot FD</td>\n",
       "      <td>NaN</td>\n",
       "      <td>5, 6, 7</td>\n",
       "      <td>2.0</td>\n",
       "      <td>NaN</td>\n",
       "      <td>0.1029</td>\n",
       "      <td>1.96</td>\n",
       "      <td>CL</td>\n",
       "      <td>2022/10/12</td>\n",
       "      <td>...</td>\n",
       "      <td>31.0</td>\n",
       "      <td>NaN</td>\n",
       "      <td>1.18E+10</td>\n",
       "      <td>8.49E+08</td>\n",
       "      <td>2.24E+11</td>\n",
       "      <td>1.61E+10</td>\n",
       "      <td>7.2%</td>\n",
       "      <td>NaN</td>\n",
       "      <td>NaN</td>\n",
       "      <td>NaN</td>\n",
       "    </tr>\n",
       "    <tr>\n",
       "      <th>2</th>\n",
       "      <td>FDL-095A-T08</td>\n",
       "      <td>Pivot FD</td>\n",
       "      <td>NaN</td>\n",
       "      <td>5, 6, 7</td>\n",
       "      <td>2.0</td>\n",
       "      <td>NaN</td>\n",
       "      <td>0.1083</td>\n",
       "      <td>2.06</td>\n",
       "      <td>CL</td>\n",
       "      <td>2022/10/12</td>\n",
       "      <td>...</td>\n",
       "      <td>65.0</td>\n",
       "      <td>NaN</td>\n",
       "      <td>2.32E+08</td>\n",
       "      <td>3.96E+07</td>\n",
       "      <td>4.41E+09</td>\n",
       "      <td>7.52E+08</td>\n",
       "      <td>17.1%</td>\n",
       "      <td>NaN</td>\n",
       "      <td>NaN</td>\n",
       "      <td>NaN</td>\n",
       "    </tr>\n",
       "    <tr>\n",
       "      <th>3</th>\n",
       "      <td>FDL-095-T05</td>\n",
       "      <td>Pivot FD</td>\n",
       "      <td>NaN</td>\n",
       "      <td>5, 6, 7</td>\n",
       "      <td>2.0</td>\n",
       "      <td>NaN</td>\n",
       "      <td>0.0976</td>\n",
       "      <td>1.85</td>\n",
       "      <td>CL</td>\n",
       "      <td>2022/10/12</td>\n",
       "      <td>...</td>\n",
       "      <td>0.0</td>\n",
       "      <td>NaN</td>\n",
       "      <td>2.00E+06</td>\n",
       "      <td>2.83E+06</td>\n",
       "      <td>3.80E+07</td>\n",
       "      <td>5.37E+07</td>\n",
       "      <td>141.4%</td>\n",
       "      <td>too low - replate</td>\n",
       "      <td>NaN</td>\n",
       "      <td>NaN</td>\n",
       "    </tr>\n",
       "    <tr>\n",
       "      <th>4</th>\n",
       "      <td>FDL-92B-T12</td>\n",
       "      <td>Pivot FD</td>\n",
       "      <td>NaN</td>\n",
       "      <td>5, 6, 7</td>\n",
       "      <td>2.0</td>\n",
       "      <td>NaN</td>\n",
       "      <td>0.1002</td>\n",
       "      <td>1.90</td>\n",
       "      <td>CL</td>\n",
       "      <td>2022/10/12</td>\n",
       "      <td>...</td>\n",
       "      <td>330.0</td>\n",
       "      <td>NaN</td>\n",
       "      <td>1.51E+09</td>\n",
       "      <td>2.72E+08</td>\n",
       "      <td>2.87E+10</td>\n",
       "      <td>5.16E+09</td>\n",
       "      <td>18.0%</td>\n",
       "      <td>NaN</td>\n",
       "      <td>NaN</td>\n",
       "      <td>NaN</td>\n",
       "    </tr>\n",
       "  </tbody>\n",
       "</table>\n",
       "<p>5 rows × 22 columns</p>\n",
       "</div>"
      ],
      "text/plain": [
       "          Batch Sample Description Code No.     Logs  No. Reps Extra   grams  \\\n",
       "0     FDL-086-7           Pivot FD      NaN  5, 6, 7       2.0   NaN  0.1084   \n",
       "1  FDL-090C-T09           Pivot FD      NaN  5, 6, 7       2.0   NaN  0.1029   \n",
       "2  FDL-095A-T08           Pivot FD      NaN  5, 6, 7       2.0   NaN  0.1083   \n",
       "3   FDL-095-T05           Pivot FD      NaN  5, 6, 7       2.0   NaN  0.0976   \n",
       "4   FDL-92B-T12           Pivot FD      NaN  5, 6, 7       2.0   NaN  0.1002   \n",
       "\n",
       "     mL Who        Date  ...     R2  R3    CFU/mL  SD CFU/mL     CFU/g  \\\n",
       "0  2.06  CL  2022/10/12  ...   56.0 NaN  4.28E+09   2.88E+09  8.13E+10   \n",
       "1  1.96  CL  2022/10/12  ...   31.0 NaN  1.18E+10   8.49E+08  2.24E+11   \n",
       "2  2.06  CL  2022/10/12  ...   65.0 NaN  2.32E+08   3.96E+07  4.41E+09   \n",
       "3  1.85  CL  2022/10/12  ...    0.0 NaN  2.00E+06   2.83E+06  3.80E+07   \n",
       "4  1.90  CL  2022/10/12  ...  330.0 NaN  1.51E+09   2.72E+08  2.87E+10   \n",
       "\n",
       "   SD CFU/g      CV          Remark/AW Unnamed: 20 Unnamed: 21  \n",
       "0  5.48E+10   67.4%       Contaminated         NaN         NaN  \n",
       "1  1.61E+10    7.2%                NaN         NaN         NaN  \n",
       "2  7.52E+08   17.1%                NaN         NaN         NaN  \n",
       "3  5.37E+07  141.4%  too low - replate         NaN         NaN  \n",
       "4  5.16E+09   18.0%                NaN         NaN         NaN  \n",
       "\n",
       "[5 rows x 22 columns]"
      ]
     },
     "execution_count": 2,
     "metadata": {},
     "output_type": "execute_result"
    }
   ],
   "source": [
    "rawcfu_df = pd.read_csv(filepath_or_buffer=\"Data files/Raw CFU.csv\", skiprows=2)\n",
    "rawcfu_df.head()"
   ]
  },
  {
   "cell_type": "code",
   "execution_count": 3,
   "id": "7d0f3a91-f95e-43d8-a49d-ee5ffc58ed3d",
   "metadata": {},
   "outputs": [
    {
     "data": {
      "text/html": [
       "<div>\n",
       "<style scoped>\n",
       "    .dataframe tbody tr th:only-of-type {\n",
       "        vertical-align: middle;\n",
       "    }\n",
       "\n",
       "    .dataframe tbody tr th {\n",
       "        vertical-align: top;\n",
       "    }\n",
       "\n",
       "    .dataframe thead th {\n",
       "        text-align: right;\n",
       "    }\n",
       "</style>\n",
       "<table border=\"1\" class=\"dataframe\">\n",
       "  <thead>\n",
       "    <tr style=\"text-align: right;\">\n",
       "      <th></th>\n",
       "      <th>Batch</th>\n",
       "      <th>Date</th>\n",
       "      <th>CFU/mL</th>\n",
       "      <th>CFU/g</th>\n",
       "    </tr>\n",
       "  </thead>\n",
       "  <tbody>\n",
       "    <tr>\n",
       "      <th>0</th>\n",
       "      <td>FDL-086-7</td>\n",
       "      <td>2022/10/12</td>\n",
       "      <td>4.28E+09</td>\n",
       "      <td>8.13E+10</td>\n",
       "    </tr>\n",
       "    <tr>\n",
       "      <th>1</th>\n",
       "      <td>FDL-090C-T09</td>\n",
       "      <td>2022/10/12</td>\n",
       "      <td>1.18E+10</td>\n",
       "      <td>2.24E+11</td>\n",
       "    </tr>\n",
       "    <tr>\n",
       "      <th>2</th>\n",
       "      <td>FDL-095A-T08</td>\n",
       "      <td>2022/10/12</td>\n",
       "      <td>2.32E+08</td>\n",
       "      <td>4.41E+09</td>\n",
       "    </tr>\n",
       "    <tr>\n",
       "      <th>3</th>\n",
       "      <td>FDL-095-T05</td>\n",
       "      <td>2022/10/12</td>\n",
       "      <td>2.00E+06</td>\n",
       "      <td>3.80E+07</td>\n",
       "    </tr>\n",
       "    <tr>\n",
       "      <th>4</th>\n",
       "      <td>FDL-92B-T12</td>\n",
       "      <td>2022/10/12</td>\n",
       "      <td>1.51E+09</td>\n",
       "      <td>2.87E+10</td>\n",
       "    </tr>\n",
       "    <tr>\n",
       "      <th>...</th>\n",
       "      <td>...</td>\n",
       "      <td>...</td>\n",
       "      <td>...</td>\n",
       "      <td>...</td>\n",
       "    </tr>\n",
       "    <tr>\n",
       "      <th>783</th>\n",
       "      <td>NaN</td>\n",
       "      <td>NaN</td>\n",
       "      <td>#DIV/0!</td>\n",
       "      <td>#DIV/0!</td>\n",
       "    </tr>\n",
       "    <tr>\n",
       "      <th>784</th>\n",
       "      <td>NaN</td>\n",
       "      <td>NaN</td>\n",
       "      <td>#DIV/0!</td>\n",
       "      <td>#DIV/0!</td>\n",
       "    </tr>\n",
       "    <tr>\n",
       "      <th>785</th>\n",
       "      <td>NaN</td>\n",
       "      <td>NaN</td>\n",
       "      <td>#DIV/0!</td>\n",
       "      <td>#DIV/0!</td>\n",
       "    </tr>\n",
       "    <tr>\n",
       "      <th>786</th>\n",
       "      <td>NaN</td>\n",
       "      <td>NaN</td>\n",
       "      <td>#DIV/0!</td>\n",
       "      <td>#DIV/0!</td>\n",
       "    </tr>\n",
       "    <tr>\n",
       "      <th>787</th>\n",
       "      <td>NaN</td>\n",
       "      <td>NaN</td>\n",
       "      <td>#DIV/0!</td>\n",
       "      <td>#DIV/0!</td>\n",
       "    </tr>\n",
       "  </tbody>\n",
       "</table>\n",
       "<p>788 rows × 4 columns</p>\n",
       "</div>"
      ],
      "text/plain": [
       "            Batch        Date    CFU/mL     CFU/g\n",
       "0       FDL-086-7  2022/10/12  4.28E+09  8.13E+10\n",
       "1    FDL-090C-T09  2022/10/12  1.18E+10  2.24E+11\n",
       "2    FDL-095A-T08  2022/10/12  2.32E+08  4.41E+09\n",
       "3     FDL-095-T05  2022/10/12  2.00E+06  3.80E+07\n",
       "4     FDL-92B-T12  2022/10/12  1.51E+09  2.87E+10\n",
       "..            ...         ...       ...       ...\n",
       "783           NaN         NaN   #DIV/0!   #DIV/0!\n",
       "784           NaN         NaN   #DIV/0!   #DIV/0!\n",
       "785           NaN         NaN   #DIV/0!   #DIV/0!\n",
       "786           NaN         NaN   #DIV/0!   #DIV/0!\n",
       "787           NaN         NaN   #DIV/0!   #DIV/0!\n",
       "\n",
       "[788 rows x 4 columns]"
      ]
     },
     "execution_count": 3,
     "metadata": {},
     "output_type": "execute_result"
    }
   ],
   "source": [
    "# keep relevant cols\n",
    "rawcfu_df = rawcfu_df[['Batch','Date','CFU/mL','CFU/g']]\n",
    "rawcfu_df"
   ]
  },
  {
   "cell_type": "code",
   "execution_count": 5,
   "id": "a43c0587-b64a-4bc8-bc93-e4990aca4bcc",
   "metadata": {},
   "outputs": [
    {
     "data": {
      "text/plain": [
       "<AxesSubplot:>"
      ]
     },
     "execution_count": 5,
     "metadata": {},
     "output_type": "execute_result"
    },
    {
     "data": {
      "image/png": "[encoded data removed]",
      "text/plain": [
       "<Figure size 432x288 with 1 Axes>"
      ]
     },
     "metadata": {
      "needs_background": "light"
     },
     "output_type": "display_data"
    }
   ],
   "source": [
    "# check NaN values\n",
    "sns.heatmap(rawcfu_df.isnull(), yticklabels=False, cbar=False)"
   ]
  },
  {
   "cell_type": "code",
   "execution_count": 8,
   "id": "0575f93f-dda4-4cb2-90e7-517543a3070d",
   "metadata": {},
   "outputs": [
    {
     "data": {
      "text/plain": [
       "(774, 4)"
      ]
     },
     "execution_count": 8,
     "metadata": {},
     "output_type": "execute_result"
    },
    {
     "data": {
      "image/png": "[encoded data removed]",
      "text/plain": [
       "<Figure size 432x288 with 1 Axes>"
      ]
     },
     "metadata": {
      "needs_background": "light"
     },
     "output_type": "display_data"
    }
   ],
   "source": [
    "# remove rows with NaN in 'Batch\" col\n",
    "rawcfu_df.dropna(subset=['Batch'],inplace=True)\n",
    "sns.heatmap(rawcfu_df.isnull(), yticklabels=False, cbar=False)\n",
    "rawcfu_df.shape\n",
    "\n",
    "# NaN in CFU/mL or CFU/g indicate either the samples in liq or sol form"
   ]
  },
  {
   "cell_type": "code",
   "execution_count": null,
   "id": "7610bc77-11f5-4745-aed2-1c88f5641f3d",
   "metadata": {},
   "outputs": [],
   "source": [
    "def upload_dataset(caption: str) -> pd.DataFrame:\n",
    "    \"\"\"\n",
    "    Let the user upload a dataset as CSV then cleans up the file contents.\n",
    "    \n",
    "    INPUT: a .csv file set in a template\n",
    "    \n",
    "    OUTPUT: a clean dataframe with relevant info\n",
    "    \"\"\"\n",
    "\n",
    "    file = st.file_uploader(caption, type=[\"csv\"])\n",
    "    if not file:\n",
    "        st.warning(\"Please upload a CSV file.\")\n",
    "        return pd.DataFrame()\n",
    "    \n",
    "    # read in the template and select relevant information\n",
    "    data = pd.read_csv(file, skiprows=2)\n",
    "    data = data[['Batch','Date','CFU/mL','CFU/g']]\n",
    "    data.dropna(subset=['Batch'],inplace=True)\n",
    "\n",
    "    st.write(f\"DataFrame size: {len(data)}\")\n",
    "    file.close()\n",
    "    st.dataframe(data.head())\n",
    "\n",
    "    return data"
   ]
  },
  {
   "cell_type": "code",
   "execution_count": null,
   "id": "ba4ed602-c3db-4171-8c9c-be133332823b",
   "metadata": {},
   "outputs": [],
   "source": []
  },
  {
   "cell_type": "code",
   "execution_count": null,
   "id": "6cc794e5-dc61-42fe-ac1d-1a00e1e93527",
   "metadata": {},
   "outputs": [],
   "source": []
  },
  {
   "cell_type": "code",
   "execution_count": null,
   "id": "8908d2be-b7ec-4dd9-8768-a8d285d2faec",
   "metadata": {},
   "outputs": [],
   "source": []
  },
  {
   "cell_type": "markdown",
   "id": "8eaa7d9e",
   "metadata": {
    "tags": []
   },
   "source": [
    "### B2. Boost"
   ]
  },
  {
   "cell_type": "code",
   "execution_count": null,
   "id": "47a573fa",
   "metadata": {},
   "outputs": [],
   "source": [
    "if add_sidebar == 'Boost':\n",
    "    st.subheader('Boost Data Dashboard')\n",
    "    data=upload_dataset('Upload CSV file')\n",
    "    \n",
    "    st.write('Time Range')\n",
    "    exp_period = st.slider('Choose a time range of completed experiments:',\n",
    "                           date(2019,1,1), date.today(),\n",
    "                           value=(date(2020,1,1),date(2021,1,1)),\n",
    "                           format='YYYY/MM/DD')\n",
    "    \n",
    "    \n",
    "                                  \n",
    "    #data preprocessing\n",
    "    #features engineering "
   ]
  }
 ],
 "metadata": {
  "kernelspec": {
   "display_name": "Python 3",
   "language": "python",
   "name": "python3"
  },
  "language_info": {
   "codemirror_mode": {
    "name": "ipython",
    "version": 3
   },
   "file_extension": ".py",
   "mimetype": "text/x-python",
   "name": "python",
   "nbconvert_exporter": "python",
   "pygments_lexer": "ipython3",
   "version": "3.7.15"
  }
 },
 "nbformat": 4,
 "nbformat_minor": 5
}
